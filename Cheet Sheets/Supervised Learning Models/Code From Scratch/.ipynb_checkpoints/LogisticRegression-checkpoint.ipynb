{
 "cells": [
  {
   "cell_type": "markdown",
   "metadata": {},
   "source": [
    "# Logistic Regression from scratch"
   ]
  },
  {
   "cell_type": "markdown",
   "metadata": {},
   "source": [
    "Simple liear regression coded from scratch based on the simple logistic regression example from wikipedia [probability of passing an exam versus hours of study](https://en.wikipedia.org/wiki/Logistic_regression#Probability_of_passing_an_exam_versus_hours_of_study)."
   ]
  },
  {
   "cell_type": "markdown",
   "metadata": {},
   "source": [
    "The table shows the number of hours each student spent studying, and whether they passed (1) or failed (0).\n",
    "\n",
    "| Hours | 0.50 | 0.75 | 1.00 | 1.25 | 1.50 | 1.75 | 1.75 | 2.00 | 2.25 | 2.50 | 2.75 | 3.00 | 3.25 | 3.50 | 4.00 | 4.25 | 4.50 | 4.75 | 5.00 | 5.50 |\n",
    "| ----- | ---- | ---- | ---- | ---- | ---- | ---- | ---- | ---- | ---- | ---- | ---- | ---- | ---- | ---- | ---- | ---- | ---- | ---- | ---- | ---- |\n",
    "| Pass  | 0    | 0    | 0    | 0    | 0    | 0    | 1    | 0    | 1    | 0    | 1    | 0    | 1    | 0    | 1    | 1    | 1    | 1    | 1    | 1    |"
   ]
  },
  {
   "cell_type": "code",
   "execution_count": 4,
   "metadata": {},
   "outputs": [],
   "source": [
    "import numpy as np\n",
    "\n",
    "hours_studied = np.array([0.50, 0.75, 1.00, 1.25, 1.50, 1.75, 1.75, 2.00, 2.25, 2.50,\n",
    "                         2.75, 3.00, 3.25, 3.50, 4.00, 4.25, 4.50, 4.75, 5.00, 5.50, 0.50, 0.75, 1.00, 1.25, 1.50, 1.75, 1.75, 2.00, 2.25, 2.50,\n",
    "                         2.75, 3.00, 3.25, 3.50, 4.00, 4.25, 4.50, 4.75, 5.00, 5.50])\n",
    "\n",
    "passed = np.array([0, 0, 0, 0, 0, 0, 1, 0, 1, 0, 1, 0, 1, 0, 1, 1, 1, 1, 1, 1, 0, 0, 0, 0, 0, 0, 1, 0, 1, 0, 1, 0, 1, 0, 1, 1, 1, 1, 1, 1])"
   ]
  },
  {
   "cell_type": "code",
   "execution_count": 5,
   "metadata": {},
   "outputs": [],
   "source": [
    "def sigmoid(scores):\n",
    "    return 1 / (1 + np.exp(-scores))"
   ]
  },
  {
   "cell_type": "code",
   "execution_count": 6,
   "metadata": {},
   "outputs": [],
   "source": [
    "def log_likelihood(X, y, weights):\n",
    "    scores = np.dot(X, weights)\n",
    "    ll = np.sum( y*scores - np.log(1 + np.exp(scores)) )\n",
    "    return ll"
   ]
  },
  {
   "cell_type": "code",
   "execution_count": 7,
   "metadata": {},
   "outputs": [],
   "source": [
    "def gradient_descent(X, y, num_steps, learning_rate):\n",
    "    betas = np.zeros(X.shape[1])    \n",
    "    for step in range(num_steps):\n",
    "        scores = np.dot(X, betas)\n",
    "        predictions = sigmoid(scores)\n",
    "        # Update weights with gradient\n",
    "        output_error_signal = y - predictions\n",
    "        gradient = np.dot(X.T, output_error_signal)\n",
    "        betas += learning_rate * gradient    \n",
    "    return betas"
   ]
  },
  {
   "cell_type": "code",
   "execution_count": 8,
   "metadata": {},
   "outputs": [],
   "source": [
    "def logistic_regression(X, y, num_steps, learning_rate, add_intercept=False):\n",
    "    if add_intercept:\n",
    "        intercept = np.ones((X.shape[0], 1))\n",
    "        X = np.hstack((intercept, X))\n",
    "    betas = gradient_descent(X, y, num_steps, learning_rate)\n",
    "    return betas\n",
    "\n",
    "X = hours_studied.reshape(hours_studied.shape[0], 1)\n",
    "y = passed\n",
    "\n",
    "fit_betas = logistic_regression(X, y, num_steps=1000000, \n",
    "                    learning_rate=5e-5, add_intercept=True)"
   ]
  },
  {
   "cell_type": "code",
   "execution_count": 9,
   "metadata": {},
   "outputs": [],
   "source": [
    "def predict(X, betas):\n",
    "    final_scores = (betas[0] + (betas[1] * X)).ravel()\n",
    "    # equivilent to np.hstack((np.ones(X.shape), X)) @ fit_betas\n",
    "    return np.round(sigmoid(final_scores))\n",
    "\n",
    "def RSS(X, y, betas):\n",
    "    y_hats = predict(X, betas)\n",
    "    return sum((y - y_hats) ** 2)\n",
    "\n",
    "def accuracy(X, y, betas):\n",
    "    preds = predict(X, betas)\n",
    "    return ((preds == y).sum().astype(float) / len(preds))"
   ]
  },
  {
   "cell_type": "markdown",
   "metadata": {},
   "source": [
    "\n",
    "|.| Coefficient | Std.Error | z-value | P-value (Wald) |\n",
    "|-----------|-------------|-----------|---------|----------------|\n",
    "| Intercept | −4.0777     | 1.7610    | −2.316  | 0.0206         |\n",
    "| Hours     | 1.5046      | 0.6287    | 2.393   | 0.0167         |"
   ]
  }
 ],
 "metadata": {
  "kernelspec": {
   "display_name": "Python 3",
   "language": "python",
   "name": "python3"
  },
  "language_info": {
   "codemirror_mode": {
    "name": "ipython",
    "version": 3
   },
   "file_extension": ".py",
   "mimetype": "text/x-python",
   "name": "python",
   "nbconvert_exporter": "python",
   "pygments_lexer": "ipython3",
   "version": "3.6.6"
  }
 },
 "nbformat": 4,
 "nbformat_minor": 2
}
