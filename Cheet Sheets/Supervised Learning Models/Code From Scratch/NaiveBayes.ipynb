{
 "cells": [
  {
   "cell_type": "markdown",
   "metadata": {},
   "source": [
    "# Naive Bayes"
   ]
  },
  {
   "cell_type": "markdown",
   "metadata": {},
   "source": [
    "This notebook codes a LDA Naive Bayes model using the [sex classification](https://en.wikipedia.org/wiki/Naive_Bayes_classifier#Sex_classification) example from wikipedia."
   ]
  },
  {
   "cell_type": "code",
   "execution_count": 243,
   "metadata": {},
   "outputs": [],
   "source": [
    "import numpy as np"
   ]
  },
  {
   "cell_type": "code",
   "execution_count": 350,
   "metadata": {},
   "outputs": [],
   "source": [
    "labels = np.array(['male', 'male', 'male', 'male',\n",
    "                   'female', 'female', 'female', 'female'])\n",
    "\n",
    "height = np.array([6., 5.92, 5.58, 5.92, 5., 5.5, 5.42, 5.75])\n",
    "weight = np.array([180, 190, 170, 165, 100, 150, 130, 150])\n",
    "footsize = np.array([12, 11, 12, 10, 6, 8, 7, 9])"
   ]
  },
  {
   "cell_type": "code",
   "execution_count": 351,
   "metadata": {},
   "outputs": [],
   "source": [
    "X = np.column_stack((height, weight, footsize))\n",
    "y = labels"
   ]
  },
  {
   "cell_type": "code",
   "execution_count": 263,
   "metadata": {},
   "outputs": [],
   "source": [
    "def prior(y, k):\n",
    "    n_k = len(y[y == k])\n",
    "    return n_k / len(y)"
   ]
  },
  {
   "cell_type": "code",
   "execution_count": 266,
   "metadata": {},
   "outputs": [],
   "source": [
    "def mu_hat_k(X, y, k):\n",
    "    mu_vect = X[y == k].mean(0)\n",
    "    return mu_vect\n",
    "\n",
    "def var_hat(X, y, k1, k2):\n",
    "    n = X.shape[0]\n",
    "    K = len(set(y))\n",
    "    var_k1 = sum((X[y == k1] - X[y == k1].mean(0)) ** 2)\n",
    "    var_k2 = sum((X[y == k2] - X[y == k2].mean(0)) ** 2)\n",
    "    return 1 / n - K (var_k1 + var_k2)\n",
    "    #var_vect = X[y == k].var(0)\n"
   ]
  },
  {
   "cell_type": "markdown",
   "metadata": {},
   "source": [
    "## LDA: Single Feature "
   ]
  },
  {
   "cell_type": "code",
   "execution_count": 267,
   "metadata": {},
   "outputs": [],
   "source": [
    "def descriminate_function(X, y, k1, k2):\n",
    "    var_hat = var_hat_k(X, y, k1, k2)\n",
    "    mu_hat_k1 = mu_hat_k(X, y, k1)\n",
    "    mu_hat_k2 = mu_hat_k(X, y, k2)\n",
    "                 \n",
    "    k1_descriminates = X * (mu_hat_k1 / var_hat) - (mu_hat_k1 ** 2 / (2 * var_hat)) \\\n",
    "                 + np.log(prior(y, k1))\n",
    "    \n",
    "    k2_descriminates = X * (mu_hat_k2 / var_hat) - (mu_hat_k2 ** 2 / (2 * var_hat)) \\\n",
    "                 + np.log(prior(y, k2))\n",
    "    \n",
    "    return [k1 if x else k2 for x in (k1_descriminates > k2_descriminates) ]\n",
    "    "
   ]
  },
  {
   "cell_type": "code",
   "execution_count": 276,
   "metadata": {},
   "outputs": [
    {
     "name": "stdout",
     "output_type": "stream",
     "text": [
      "height: ['male', 'male', 'female', 'male', 'female', 'female', 'female', 'male'] \n",
      " weight: ['male', 'male', 'male', 'male', 'female', 'female', 'female', 'female'] \n",
      " footsize: ['male', 'male', 'male', 'male', 'female', 'female', 'female', 'female']\n"
     ]
    }
   ],
   "source": [
    "print(\n",
    "    'height:', descriminate_function(height.reshape(8,1), y, 'male', 'female'), '\\n',\n",
    "    'weight:', descriminate_function(weight.reshape(8,1), y, 'male', 'female'), '\\n',\n",
    "    'footsize:', descriminate_function(footsize.reshape(8,1), y, 'male', 'female')\n",
    ")"
   ]
  },
  {
   "cell_type": "markdown",
   "metadata": {},
   "source": [
    "## LDA: Multi Feature"
   ]
  },
  {
   "cell_type": "code",
   "execution_count": 353,
   "metadata": {},
   "outputs": [],
   "source": [
    "def descriminate_function_multi(X, y, k1, k2):\n",
    "    # inverse of covariance matrix\n",
    "    Sigma_inv = np.linalg.inv(np.cov(X.T))\n",
    "    # mu matrix for each class\n",
    "    mu_hat_k1 = mu_hat_k(X, y, k1)\n",
    "    mu_hat_k2 = mu_hat_k(X, y, k2)\n",
    "    \n",
    "    k1_descriminates = X @ Sigma_inv @ mu_hat_k1 \\\n",
    "        - (0.5) * mu_hat_k1.T @ Sigma_inv @ mu_hat_k1 \\\n",
    "        + prior(y, k1)\n",
    "    \n",
    "    k2_descriminates = X @ Sigma_inv @ mu_hat_k2 \\\n",
    "        - (0.5) * mu_hat_k2.T @ Sigma_inv @ mu_hat_k2 \\\n",
    "        + prior(y, k2)\n",
    "    \n",
    "    return [k1 if x else k2 for x in (k1_descriminates > k2_descriminates) ]"
   ]
  },
  {
   "cell_type": "code",
   "execution_count": 349,
   "metadata": {},
   "outputs": [
    {
     "data": {
      "text/plain": [
       "['male', 'male', 'male', 'male', 'female', 'female', 'female', 'female']"
      ]
     },
     "execution_count": 349,
     "metadata": {},
     "output_type": "execute_result"
    }
   ],
   "source": [
    "descriminate_function_multi(X, y, 'male', 'female')"
   ]
  },
  {
   "cell_type": "code",
   "execution_count": 366,
   "metadata": {},
   "outputs": [
    {
     "data": {
      "text/plain": [
       "['female', 'male']"
      ]
     },
     "execution_count": 366,
     "metadata": {},
     "output_type": "execute_result"
    }
   ],
   "source": [
    "def predict(X, k1, k2, mu_vect_k1, mu_vect_k2, Sigma):\n",
    "    k1_descriminates = X @ Sigma_inv @ mu_hat_k1 \\\n",
    "        - (0.5) * mu_hat_k1.T @ Sigma_inv @ mu_hat_k1 \\\n",
    "        + prior(y, k1)\n",
    "    \n",
    "    k2_descriminates = X @ Sigma_inv @ mu_hat_k2 \\\n",
    "        - (0.5) * mu_hat_k2.T @ Sigma_inv @ mu_hat_k2 \\\n",
    "        + prior(y, k2)\n",
    "    \n",
    "    return [k1 if x else k2 for x in (k1_descriminates > k2_descriminates) ]\n",
    "\n",
    "x = np.array([[6, 130, 8], \n",
    "              [5.75, 200, 9.5]])\n",
    "\n",
    "Sigma_inv = np.linalg.inv(np.cov(X.T))\n",
    "mu_hat_k1 = mu_hat_k(X, y, 'male')\n",
    "mu_hat_k2 = mu_hat_k(X, y, 'female')\n",
    "\n",
    "predict(x, 'male', 'female', mu_hat_k1, mu_hat_k2, Sigma_inv)"
   ]
  }
 ],
 "metadata": {
  "kernelspec": {
   "display_name": "Python 3",
   "language": "python",
   "name": "python3"
  },
  "language_info": {
   "codemirror_mode": {
    "name": "ipython",
    "version": 3
   },
   "file_extension": ".py",
   "mimetype": "text/x-python",
   "name": "python",
   "nbconvert_exporter": "python",
   "pygments_lexer": "ipython3",
   "version": "3.6.6"
  }
 },
 "nbformat": 4,
 "nbformat_minor": 2
}
